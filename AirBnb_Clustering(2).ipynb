{
 "cells": [
  {
   "cell_type": "code",
   "execution_count": 2,
   "metadata": {},
   "outputs": [
    {
     "name": "stdout",
     "output_type": "stream",
     "text": [
      "Populating the interactive namespace from numpy and matplotlib\n"
     ]
    }
   ],
   "source": [
    "from pandas import Series, DataFrame\n",
    "import pandas as pd\n",
    "from patsy import dmatrices\n",
    "%pylab inline\n",
    "import warnings\n",
    "warnings.filterwarnings('ignore')"
   ]
  },
  {
   "cell_type": "code",
   "execution_count": 3,
   "metadata": {},
   "outputs": [
    {
     "data": {
      "text/plain": [
       "array(['id', 'log_price', 'accommodates', 'bathrooms', 'cleaning_fee',\n",
       "       'host_has_profile_pic', 'hos1_identity_verified',\n",
       "       'host_response_rate', 'instant_bookable', 'latitude', 'longitude',\n",
       "       'number_of_reviews', 'review_scores_rating', 'zipcode', 'bedrooms',\n",
       "       'beds', 'rare_True', 'rare_medium_True', 'amenities_freq',\n",
       "       'more_amenities'], dtype=object)"
      ]
     },
     "execution_count": 3,
     "metadata": {},
     "output_type": "execute_result"
    }
   ],
   "source": [
    "airbnb=pd.read_csv('kmeans_data.csv')\n",
    "airbnb.head()\n",
    "airbnb.describe()\n",
    "airbnb.columns.values"
   ]
  },
  {
   "cell_type": "code",
   "execution_count": 4,
   "metadata": {},
   "outputs": [],
   "source": [
    "airbnb['price']=exp(airbnb['log_price'])\n",
    "airbnb.drop(columns=['id','rare_medium_True','log_price'],inplace=True)\n"
   ]
  },
  {
   "cell_type": "code",
   "execution_count": 5,
   "metadata": {},
   "outputs": [
    {
     "data": {
      "text/html": [
       "<div>\n",
       "<style scoped>\n",
       "    .dataframe tbody tr th:only-of-type {\n",
       "        vertical-align: middle;\n",
       "    }\n",
       "\n",
       "    .dataframe tbody tr th {\n",
       "        vertical-align: top;\n",
       "    }\n",
       "\n",
       "    .dataframe thead th {\n",
       "        text-align: right;\n",
       "    }\n",
       "</style>\n",
       "<table border=\"1\" class=\"dataframe\">\n",
       "  <thead>\n",
       "    <tr style=\"text-align: right;\">\n",
       "      <th></th>\n",
       "      <th>accommodates</th>\n",
       "      <th>bathrooms</th>\n",
       "      <th>cleaning_fee</th>\n",
       "      <th>host_has_profile_pic</th>\n",
       "      <th>hos1_identity_verified</th>\n",
       "      <th>host_response_rate</th>\n",
       "      <th>instant_bookable</th>\n",
       "      <th>latitude</th>\n",
       "      <th>longitude</th>\n",
       "      <th>number_of_reviews</th>\n",
       "      <th>review_scores_rating</th>\n",
       "      <th>bedrooms</th>\n",
       "      <th>beds</th>\n",
       "      <th>rare_True</th>\n",
       "      <th>amenities_freq</th>\n",
       "      <th>more_amenities</th>\n",
       "      <th>price</th>\n",
       "    </tr>\n",
       "  </thead>\n",
       "  <tbody>\n",
       "    <tr>\n",
       "      <th>0</th>\n",
       "      <td>7</td>\n",
       "      <td>1</td>\n",
       "      <td>1</td>\n",
       "      <td>1</td>\n",
       "      <td>0</td>\n",
       "      <td>100</td>\n",
       "      <td>1</td>\n",
       "      <td>40.766115</td>\n",
       "      <td>-73.989040</td>\n",
       "      <td>6</td>\n",
       "      <td>93</td>\n",
       "      <td>3</td>\n",
       "      <td>3</td>\n",
       "      <td>0</td>\n",
       "      <td>7</td>\n",
       "      <td>0</td>\n",
       "      <td>169.017118</td>\n",
       "    </tr>\n",
       "    <tr>\n",
       "      <th>1</th>\n",
       "      <td>5</td>\n",
       "      <td>1</td>\n",
       "      <td>1</td>\n",
       "      <td>1</td>\n",
       "      <td>1</td>\n",
       "      <td>100</td>\n",
       "      <td>1</td>\n",
       "      <td>40.808110</td>\n",
       "      <td>-73.943756</td>\n",
       "      <td>10</td>\n",
       "      <td>92</td>\n",
       "      <td>1</td>\n",
       "      <td>3</td>\n",
       "      <td>0</td>\n",
       "      <td>11</td>\n",
       "      <td>0</td>\n",
       "      <td>145.474382</td>\n",
       "    </tr>\n",
       "    <tr>\n",
       "      <th>2</th>\n",
       "      <td>2</td>\n",
       "      <td>1</td>\n",
       "      <td>1</td>\n",
       "      <td>1</td>\n",
       "      <td>1</td>\n",
       "      <td>100</td>\n",
       "      <td>0</td>\n",
       "      <td>40.723883</td>\n",
       "      <td>-73.983880</td>\n",
       "      <td>82</td>\n",
       "      <td>93</td>\n",
       "      <td>1</td>\n",
       "      <td>1</td>\n",
       "      <td>0</td>\n",
       "      <td>8</td>\n",
       "      <td>0</td>\n",
       "      <td>100.484150</td>\n",
       "    </tr>\n",
       "    <tr>\n",
       "      <th>3</th>\n",
       "      <td>8</td>\n",
       "      <td>1</td>\n",
       "      <td>1</td>\n",
       "      <td>1</td>\n",
       "      <td>0</td>\n",
       "      <td>100</td>\n",
       "      <td>1</td>\n",
       "      <td>40.643773</td>\n",
       "      <td>-73.950855</td>\n",
       "      <td>5</td>\n",
       "      <td>72</td>\n",
       "      <td>3</td>\n",
       "      <td>3</td>\n",
       "      <td>0</td>\n",
       "      <td>13</td>\n",
       "      <td>0</td>\n",
       "      <td>99.484316</td>\n",
       "    </tr>\n",
       "    <tr>\n",
       "      <th>4</th>\n",
       "      <td>2</td>\n",
       "      <td>2</td>\n",
       "      <td>1</td>\n",
       "      <td>1</td>\n",
       "      <td>1</td>\n",
       "      <td>100</td>\n",
       "      <td>0</td>\n",
       "      <td>40.656278</td>\n",
       "      <td>-73.922645</td>\n",
       "      <td>57</td>\n",
       "      <td>89</td>\n",
       "      <td>1</td>\n",
       "      <td>1</td>\n",
       "      <td>0</td>\n",
       "      <td>7</td>\n",
       "      <td>0</td>\n",
       "      <td>40.044847</td>\n",
       "    </tr>\n",
       "  </tbody>\n",
       "</table>\n",
       "</div>"
      ],
      "text/plain": [
       "   accommodates  bathrooms  cleaning_fee  host_has_profile_pic  \\\n",
       "0             7          1             1                     1   \n",
       "1             5          1             1                     1   \n",
       "2             2          1             1                     1   \n",
       "3             8          1             1                     1   \n",
       "4             2          2             1                     1   \n",
       "\n",
       "   hos1_identity_verified  host_response_rate  instant_bookable   latitude  \\\n",
       "0                       0                 100                 1  40.766115   \n",
       "1                       1                 100                 1  40.808110   \n",
       "2                       1                 100                 0  40.723883   \n",
       "3                       0                 100                 1  40.643773   \n",
       "4                       1                 100                 0  40.656278   \n",
       "\n",
       "   longitude  number_of_reviews  review_scores_rating  bedrooms  beds  \\\n",
       "0 -73.989040                  6                    93         3     3   \n",
       "1 -73.943756                 10                    92         1     3   \n",
       "2 -73.983880                 82                    93         1     1   \n",
       "3 -73.950855                  5                    72         3     3   \n",
       "4 -73.922645                 57                    89         1     1   \n",
       "\n",
       "   rare_True  amenities_freq  more_amenities       price  \n",
       "0          0               7               0  169.017118  \n",
       "1          0              11               0  145.474382  \n",
       "2          0               8               0  100.484150  \n",
       "3          0              13               0   99.484316  \n",
       "4          0               7               0   40.044847  "
      ]
     },
     "execution_count": 5,
     "metadata": {},
     "output_type": "execute_result"
    }
   ],
   "source": [
    "airbnb.drop(columns='zipcode',inplace=True)\n",
    "airbnb.head()"
   ]
  },
  {
   "cell_type": "code",
   "execution_count": 6,
   "metadata": {},
   "outputs": [],
   "source": [
    "#airbnb_NYC=airbnb_NYC.dropna()\n",
    "#cluster_df=airbnb_NYC[['log_price','accommodates','bathrooms','latitude','longitude','bedrooms','beds']]\n",
    "#cluster_df['log_price']=exp(cluster_df['log_price'])\n",
    "#cluster_df.describe()"
   ]
  },
  {
   "cell_type": "code",
   "execution_count": 9,
   "metadata": {},
   "outputs": [
    {
     "data": {
      "text/plain": [
       "Text(0,0.5,'Sum of distances of points to closest cluster centers')"
      ]
     },
     "execution_count": 9,
     "metadata": {},
     "output_type": "execute_result"
    },
    {
     "data": {
      "image/png": "[encoded data removed]",
      "text/plain": [
       "<Figure size 432x288 with 1 Axes>"
      ]
     },
     "metadata": {
      "needs_background": "light"
     },
     "output_type": "display_data"
    }
   ],
   "source": [
    "from sklearn.cluster import KMeans\n",
    "sum_of_distances = {}\n",
    "for num_clusters in range(1,16):\n",
    "    kmeans = KMeans(n_clusters=num_clusters, random_state=1)\n",
    "    kmeans.fit(airbnb)\n",
    "    sum_of_distances[num_clusters] = kmeans.inertia_\n",
    "Series(sum_of_distances).sort_index().plot()\n",
    "xlabel('Number of clusters')\n",
    "ylabel('Sum of distances of points to closest cluster centers')"
   ]
  },
  {
   "cell_type": "code",
   "execution_count": 10,
   "metadata": {},
   "outputs": [
    {
     "data": {
      "text/plain": [
       "KMeans(algorithm='auto', copy_x=True, init='k-means++', max_iter=300,\n",
       "    n_clusters=4, n_init=10, n_jobs=None, precompute_distances='auto',\n",
       "    random_state=1, tol=0.0001, verbose=0)"
      ]
     },
     "execution_count": 10,
     "metadata": {},
     "output_type": "execute_result"
    }
   ],
   "source": [
    "#from sklearn.cluster import KMeans\n",
    "model = KMeans(n_clusters=4, random_state=1)\n",
    "model.fit(airbnb)"
   ]
  },
  {
   "cell_type": "code",
   "execution_count": null,
   "metadata": {},
   "outputs": [],
   "source": [
    "print model.cluster_centers_"
   ]
  },
  {
   "cell_type": "code",
   "execution_count": 11,
   "metadata": {},
   "outputs": [
    {
     "data": {
      "text/plain": [
       "0    11012\n",
       "3     5412\n",
       "1     1251\n",
       "2      181\n",
       "Name: cluster, dtype: int64"
      ]
     },
     "execution_count": 11,
     "metadata": {},
     "output_type": "execute_result"
    }
   ],
   "source": [
    "airbnb['cluster']=model.labels_\n",
    "airbnb['cluster'].value_counts()"
   ]
  },
  {
   "cell_type": "code",
   "execution_count": null,
   "metadata": {},
   "outputs": [],
   "source": [
    "import numpy as np\n",
    "airbnb.head()\n",
    "airbnb.groupby('cluster')[['price','accommodates','amenities_freq']].agg(['max','min'])"
   ]
  },
  {
   "cell_type": "markdown",
   "metadata": {},
   "source": [
    "Listing key inferences:\n",
    "Cluster 0: This is the biggest cluster with an average rent of 79.3USD, accommodates an average of 2 people and has about 10 amenities\n",
    "Cluster 1: This cluster has an average rent of 382USD, accommodates an average of 6 people and has about 12 amenities\n",
    "Cluster 2: This has an average rent of 883USD, accommodates an average of 8 people and has about 14 amenities\n",
    "Cluster 3: This is the biggest cluster with an average rent of 186USD, accommodates an average of 3 people and has about 11 amenities\n",
    "\n"
   ]
  },
  {
   "cell_type": "code",
   "execution_count": 12,
   "metadata": {},
   "outputs": [],
   "source": [
    "airbnb.to_csv(r'AirBnB_Clusters.csv')"
   ]
  },
  {
   "cell_type": "code",
   "execution_count": null,
   "metadata": {},
   "outputs": [],
   "source": []
  }
 ],
 "metadata": {
  "kernelspec": {
   "display_name": "Python 2",
   "language": "python",
   "name": "python2"
  },
  "language_info": {
   "codemirror_mode": {
    "name": "ipython",
    "version": 2
   },
   "file_extension": ".py",
   "mimetype": "text/x-python",
   "name": "python",
   "nbconvert_exporter": "python",
   "pygments_lexer": "ipython2",
   "version": "2.7.16"
  }
 },
 "nbformat": 4,
 "nbformat_minor": 2
}
