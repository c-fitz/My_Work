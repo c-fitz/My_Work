{
 "cells": [
  {
   "cell_type": "code",
   "execution_count": 1,
   "metadata": {},
   "outputs": [
    {
     "name": "stdout",
     "output_type": "stream",
     "text": [
      "Populating the interactive namespace from numpy and matplotlib\n"
     ]
    }
   ],
   "source": [
    "#from pandas import Series, DataFrame\n",
    "#import pandas as pd\n",
    "#%pylab inline\n",
    "from pandas import Series, DataFrame\n",
    "import pandas as pd\n",
    "%pylab inline\n",
    "import re\n",
    "from patsy import dmatrices\n",
    "from sklearn.model_selection import train_test_split\n",
    "from sklearn.linear_model import LogisticRegression\n",
    "from sklearn import metrics"
   ]
  },
  {
   "cell_type": "markdown",
   "metadata": {},
   "source": [
    "---\n",
    "We will work with a dataset of bank branches (let's just call them ATMs) in Washington, D.C. Each row is one ATM for one bank (e.g., \"Eagle Bank\",  in column _name_), along with its _address_, _zipcode_, and such.\n",
    "\n",
    "* When I say \"ATM\" or \"bank branch\", I am referring to the rows.\n",
    "* When I say \"bank\", I am referring to things like \"The Bank of New York Mellon\", which may have multiple ATMs.\n",
    "* When I say \"address\", I am referring to the \"address\" column."
   ]
  },
  {
   "cell_type": "code",
   "execution_count": 2,
   "metadata": {},
   "outputs": [
    {
     "data": {
      "text/html": [
       "<div>\n",
       "<style scoped>\n",
       "    .dataframe tbody tr th:only-of-type {\n",
       "        vertical-align: middle;\n",
       "    }\n",
       "\n",
       "    .dataframe tbody tr th {\n",
       "        vertical-align: top;\n",
       "    }\n",
       "\n",
       "    .dataframe thead th {\n",
       "        text-align: right;\n",
       "    }\n",
       "</style>\n",
       "<table border=\"1\" class=\"dataframe\">\n",
       "  <thead>\n",
       "    <tr style=\"text-align: right;\">\n",
       "      <th></th>\n",
       "      <th>objectid</th>\n",
       "      <th>name</th>\n",
       "      <th>address</th>\n",
       "      <th>zipcode</th>\n",
       "      <th>address_id</th>\n",
       "      <th>y</th>\n",
       "      <th>x</th>\n",
       "      <th>diffx</th>\n",
       "      <th>diffy</th>\n",
       "      <th>latitude</th>\n",
       "      <th>longitude</th>\n",
       "      <th>location</th>\n",
       "      <th>ward</th>\n",
       "    </tr>\n",
       "  </thead>\n",
       "  <tbody>\n",
       "    <tr>\n",
       "      <th>0</th>\n",
       "      <td>1</td>\n",
       "      <td>The Bank of New York Mellon</td>\n",
       "      <td>1250 H STREET NW</td>\n",
       "      <td>20005</td>\n",
       "      <td>240931</td>\n",
       "      <td>136856.85</td>\n",
       "      <td>397475.23</td>\n",
       "      <td>NaN</td>\n",
       "      <td>NaN</td>\n",
       "      <td>38.899560</td>\n",
       "      <td>-77.029106</td>\n",
       "      <td>POINT(-77.029105860000001 38.899560240000000)</td>\n",
       "      <td>Ward 2</td>\n",
       "    </tr>\n",
       "    <tr>\n",
       "      <th>1</th>\n",
       "      <td>2</td>\n",
       "      <td>The National Capital Bank of Washington</td>\n",
       "      <td>316 PENNSYLVANIA AVENUE SE</td>\n",
       "      <td>20003</td>\n",
       "      <td>39317</td>\n",
       "      <td>135465.63</td>\n",
       "      <td>399901.19</td>\n",
       "      <td>NaN</td>\n",
       "      <td>NaN</td>\n",
       "      <td>38.887031</td>\n",
       "      <td>-77.001139</td>\n",
       "      <td>POINT(-77.001138889999993 38.887031239999999)</td>\n",
       "      <td>Ward 6</td>\n",
       "    </tr>\n",
       "    <tr>\n",
       "      <th>2</th>\n",
       "      <td>11</td>\n",
       "      <td>American Bank</td>\n",
       "      <td>5600 CONNECTICUT AVENUE NW</td>\n",
       "      <td>20015</td>\n",
       "      <td>263862</td>\n",
       "      <td>144130.19</td>\n",
       "      <td>393416.98</td>\n",
       "      <td>NaN</td>\n",
       "      <td>NaN</td>\n",
       "      <td>38.965060</td>\n",
       "      <td>-77.075960</td>\n",
       "      <td>POINT(-77.075959609999998 38.965059650000001)</td>\n",
       "      <td>Ward 3</td>\n",
       "    </tr>\n",
       "    <tr>\n",
       "      <th>3</th>\n",
       "      <td>101</td>\n",
       "      <td>Congressional Bank</td>\n",
       "      <td>2101 K STREET NW</td>\n",
       "      <td>20037</td>\n",
       "      <td>218615</td>\n",
       "      <td>137219.40</td>\n",
       "      <td>395935.38</td>\n",
       "      <td>NaN</td>\n",
       "      <td>NaN</td>\n",
       "      <td>38.902820</td>\n",
       "      <td>-77.046860</td>\n",
       "      <td>POINT(-77.046859580000003 38.902820450000000)</td>\n",
       "      <td>Ward 2</td>\n",
       "    </tr>\n",
       "    <tr>\n",
       "      <th>4</th>\n",
       "      <td>102</td>\n",
       "      <td>Eagle Bank</td>\n",
       "      <td>700 7TH STREET NW</td>\n",
       "      <td>20001</td>\n",
       "      <td>243354</td>\n",
       "      <td>136753.17</td>\n",
       "      <td>398075.25</td>\n",
       "      <td>NaN</td>\n",
       "      <td>NaN</td>\n",
       "      <td>38.898628</td>\n",
       "      <td>-77.022188</td>\n",
       "      <td>POINT(-77.022188459999995 38.898627769999997)</td>\n",
       "      <td>Ward 2</td>\n",
       "    </tr>\n",
       "  </tbody>\n",
       "</table>\n",
       "</div>"
      ],
      "text/plain": [
       "   objectid                                     name  \\\n",
       "0         1              The Bank of New York Mellon   \n",
       "1         2  The National Capital Bank of Washington   \n",
       "2        11                            American Bank   \n",
       "3       101                       Congressional Bank   \n",
       "4       102                               Eagle Bank   \n",
       "\n",
       "                      address  zipcode  address_id          y          x  \\\n",
       "0            1250 H STREET NW    20005      240931  136856.85  397475.23   \n",
       "1  316 PENNSYLVANIA AVENUE SE    20003       39317  135465.63  399901.19   \n",
       "2  5600 CONNECTICUT AVENUE NW    20015      263862  144130.19  393416.98   \n",
       "3            2101 K STREET NW    20037      218615  137219.40  395935.38   \n",
       "4           700 7TH STREET NW    20001      243354  136753.17  398075.25   \n",
       "\n",
       "   diffx  diffy   latitude  longitude  \\\n",
       "0    NaN    NaN  38.899560 -77.029106   \n",
       "1    NaN    NaN  38.887031 -77.001139   \n",
       "2    NaN    NaN  38.965060 -77.075960   \n",
       "3    NaN    NaN  38.902820 -77.046860   \n",
       "4    NaN    NaN  38.898628 -77.022188   \n",
       "\n",
       "                                        location    ward  \n",
       "0  POINT(-77.029105860000001 38.899560240000000)  Ward 2  \n",
       "1  POINT(-77.001138889999993 38.887031239999999)  Ward 6  \n",
       "2  POINT(-77.075959609999998 38.965059650000001)  Ward 3  \n",
       "3  POINT(-77.046859580000003 38.902820450000000)  Ward 2  \n",
       "4  POINT(-77.022188459999995 38.898627769999997)  Ward 2  "
      ]
     },
     "execution_count": 2,
     "metadata": {},
     "output_type": "execute_result"
    }
   ],
   "source": [
    "df = pd.read_csv('bankLocOrig.csv')\n",
    "df[:5]"
   ]
  },
  {
   "cell_type": "markdown",
   "metadata": {},
   "source": [
    "### Verify that all values in the objectid column are unique."
   ]
  },
  {
   "cell_type": "code",
   "execution_count": 3,
   "metadata": {},
   "outputs": [
    {
     "name": "stdout",
     "output_type": "stream",
     "text": [
      "Number of rows: 234\n",
      "Number of unique values: 234\n"
     ]
    }
   ],
   "source": [
    "print 'Number of rows: ' + str(len(df))\n",
    "print 'Number of unique values: ' + str(df['objectid'].nunique())"
   ]
  },
  {
   "cell_type": "markdown",
   "metadata": {},
   "source": [
    "### Report the number of distinct banks. Plot the number of ATMs of the top-10 most frequent banks."
   ]
  },
  {
   "cell_type": "code",
   "execution_count": 4,
   "metadata": {},
   "outputs": [
    {
     "name": "stdout",
     "output_type": "stream",
     "text": [
      "37\n"
     ]
    },
    {
     "data": {
      "text/plain": [
       "<matplotlib.axes._subplots.AxesSubplot at 0xc971860>"
      ]
     },
     "execution_count": 4,
     "metadata": {},
     "output_type": "execute_result"
    },
    {
     "data": {
      "image/png": "[encoded data removed]",
      "text/plain": [
       "<Figure size 432x288 with 1 Axes>"
      ]
     },
     "metadata": {
      "needs_background": "light"
     },
     "output_type": "display_data"
    }
   ],
   "source": [
    "print df['name'].nunique()\n",
    "df['name'].value_counts()[:10].plot(kind='bar')"
   ]
  },
  {
   "cell_type": "markdown",
   "metadata": {},
   "source": [
    "### Which address has the most number of ATMs?\n",
    "\n",
    "Some addresses have multiple ATMs, possibly from different banks."
   ]
  },
  {
   "cell_type": "code",
   "execution_count": 5,
   "metadata": {},
   "outputs": [
    {
     "data": {
      "text/plain": [
       "1350 I STREET NW    3\n",
       "Name: address, dtype: int64"
      ]
     },
     "execution_count": 5,
     "metadata": {},
     "output_type": "execute_result"
    }
   ],
   "source": [
    "df['address'].value_counts()[:1]"
   ]
  },
  {
   "cell_type": "markdown",
   "metadata": {},
   "source": [
    "### Print out the number of zipcodes in each ward.\n",
    "If a zipcode shows up in multiple wards, count it in each ward.\n",
    "\n",
    "**Also** print out how many zipcodes span multiple wards."
   ]
  },
  {
   "cell_type": "code",
   "execution_count": 6,
   "metadata": {},
   "outputs": [
    {
     "name": "stdout",
     "output_type": "stream",
     "text": [
      "Ward 2    9\n",
      "Ward 6    4\n",
      "Ward 3    4\n",
      "Ward 5    3\n",
      "Ward 4    3\n",
      "Ward 1    3\n",
      "Ward 7    2\n",
      "Ward 8    2\n",
      "Name: ward, dtype: int64\n",
      "20001    3\n",
      "20009    2\n",
      "20020    2\n",
      "20002    2\n",
      "20015    2\n",
      "20007    2\n",
      "Name: zipcode, dtype: int64\n"
     ]
    }
   ],
   "source": [
    "temp = df[['zipcode','ward']].drop_duplicates()\n",
    "print temp['ward'].value_counts()\n",
    "\n",
    "print temp['zipcode'].value_counts().loc[lambda x : x>1]\n"
   ]
  },
  {
   "cell_type": "markdown",
   "metadata": {},
   "source": [
    "### Find the \"center of mass\" (latitude, longitude) for banks with at least 20 ATM locations.\n",
    "The center of mass for a bank is the average latitude and the average longitude of all its ATMs.\n",
    "The output should be a **DataFrame**, whose index is the bank name, and whose only two columns are \"avg latitude\" and \"avg longitude\"."
   ]
  },
  {
   "cell_type": "code",
   "execution_count": 7,
   "metadata": {},
   "outputs": [
    {
     "data": {
      "text/html": [
       "<div>\n",
       "<style scoped>\n",
       "    .dataframe tbody tr th:only-of-type {\n",
       "        vertical-align: middle;\n",
       "    }\n",
       "\n",
       "    .dataframe tbody tr th {\n",
       "        vertical-align: top;\n",
       "    }\n",
       "\n",
       "    .dataframe thead th {\n",
       "        text-align: right;\n",
       "    }\n",
       "</style>\n",
       "<table border=\"1\" class=\"dataframe\">\n",
       "  <thead>\n",
       "    <tr style=\"text-align: right;\">\n",
       "      <th></th>\n",
       "      <th>latitude</th>\n",
       "      <th>longitude</th>\n",
       "    </tr>\n",
       "    <tr>\n",
       "      <th>name</th>\n",
       "      <th></th>\n",
       "      <th></th>\n",
       "    </tr>\n",
       "  </thead>\n",
       "  <tbody>\n",
       "    <tr>\n",
       "      <th>Bank of America</th>\n",
       "      <td>38.906381</td>\n",
       "      <td>-77.031251</td>\n",
       "    </tr>\n",
       "    <tr>\n",
       "      <th>PNC Bank</th>\n",
       "      <td>38.910352</td>\n",
       "      <td>-77.033636</td>\n",
       "    </tr>\n",
       "    <tr>\n",
       "      <th>SunTrust Bank</th>\n",
       "      <td>38.906702</td>\n",
       "      <td>-77.030263</td>\n",
       "    </tr>\n",
       "    <tr>\n",
       "      <th>Wells Fargo Bank</th>\n",
       "      <td>38.908853</td>\n",
       "      <td>-77.033383</td>\n",
       "    </tr>\n",
       "  </tbody>\n",
       "</table>\n",
       "</div>"
      ],
      "text/plain": [
       "                   latitude  longitude\n",
       "name                                  \n",
       "Bank of America   38.906381 -77.031251\n",
       "PNC Bank          38.910352 -77.033636\n",
       "SunTrust Bank     38.906702 -77.030263\n",
       "Wells Fargo Bank  38.908853 -77.033383"
      ]
     },
     "execution_count": 7,
     "metadata": {},
     "output_type": "execute_result"
    }
   ],
   "source": [
    "banks_20 = pd.DataFrame(df['name'].value_counts().loc[lambda x : x>19])\n",
    "banks_20 = banks_20.reset_index().rename(columns=({'name':'Num_Atm','index':'name'}))\n",
    "banks_20\n",
    "temp = df[['name','latitude', 'longitude']]\n",
    "copy = pd.merge(temp, banks_20, how='right', on='name')\n",
    "#pd.pivot_table(copy,index=['name','Cleaned Descriptions'], values='Count',aggfunc=sum)\n",
    "copy.groupby('name')[['latitude', 'longitude']].mean()\n"
   ]
  },
  {
   "cell_type": "markdown",
   "metadata": {},
   "source": [
    "### Banks with multiple versions of the same name.\n",
    "Some banks show up in the dataset with slightly different names. A bank called \"XYZ\" can sometimes show up with one or more spaces before XYZ, and one or more commas after XYZ.\n",
    "* For example, one name could be \"XYZ\" and another could be ```\" XYZ\"``` or ```\"       XYZ,,\"```\n",
    "\n",
    "Report all the banks for whom there are multiple variants of their name (report the \"XYZ\" name, with no beginning spaces and no commas after the name)."
   ]
  },
  {
   "cell_type": "code",
   "execution_count": 8,
   "metadata": {},
   "outputs": [],
   "source": [
    "full_list = pd.DataFrame(df['name'].value_counts())\n",
    "full_list = full_list.reset_index().rename(columns=({'name':'Num_Atm','index':'name'}))"
   ]
  },
  {
   "cell_type": "code",
   "execution_count": 9,
   "metadata": {},
   "outputs": [
    {
     "name": "stderr",
     "output_type": "stream",
     "text": [
      "C:\\Users\\chris\\Anaconda3\\envs\\py\\lib\\site-packages\\ipykernel_launcher.py:13: SettingWithCopyWarning: \n",
      "A value is trying to be set on a copy of a slice from a DataFrame.\n",
      "Try using .loc[row_indexer,col_indexer] = value instead\n",
      "\n",
      "See the caveats in the documentation: http://pandas.pydata.org/pandas-docs/stable/indexing.html#indexing-view-versus-copy\n",
      "  del sys.path[0]\n",
      "C:\\Users\\chris\\Anaconda3\\envs\\py\\lib\\site-packages\\ipykernel_launcher.py:14: SettingWithCopyWarning: \n",
      "A value is trying to be set on a copy of a slice from a DataFrame.\n",
      "Try using .loc[row_indexer,col_indexer] = value instead\n",
      "\n",
      "See the caveats in the documentation: http://pandas.pydata.org/pandas-docs/stable/indexing.html#indexing-view-versus-copy\n",
      "  \n"
     ]
    },
    {
     "data": {
      "text/plain": [
       "array(['Manufacturers and Traders Trust Company', 'American Bank',\n",
       "       'HSBC Bank USA', 'Wilmington Trust'], dtype=object)"
      ]
     },
     "execution_count": 9,
     "metadata": {},
     "output_type": "execute_result"
    }
   ],
   "source": [
    "cleaned_list = df\n",
    "cleaned_list['name'] = cleaned_list['name'].str.lstrip()\n",
    "cleaned_list['name'] = cleaned_list['name'].str.rstrip(',')\n",
    "cleaned_list = pd.DataFrame(cleaned_list['name'].value_counts())\n",
    "cleaned_list = cleaned_list.reset_index().rename(columns=({'name':'Num_Atm','index':'name'}))\n",
    "\n",
    "tog = pd.merge(cleaned_list,full_list ,how='right', on='name',suffixes=[' Clean', ' Origional'])\n",
    "tog['Num_Atm Clean'] = tog['Num_Atm Clean'].replace(np.NaN, 0)\n",
    "tog['Diff'] = tog['Num_Atm Origional'] - tog['Num_Atm Clean']\n",
    "mask = tog['Diff'] != 0\n",
    "\n",
    "temp = tog[mask]\n",
    "temp['name'] = temp['name'].str.rstrip(',')\n",
    "temp['name'] = temp['name'].str.lstrip()\n",
    "temp['name'].unique()"
   ]
  },
  {
   "cell_type": "markdown",
   "metadata": {},
   "source": [
    "### Print out all the unique addresses which have numbered streets.\n",
    "\n",
    "A numbered street is like \"7TH\" street. So the address \"700 7TH STREET NW\" is an address with a numbered street.\n",
    "\n",
    "Let's define a numbered street as starting with a number and ending with two capital letters in the end. For example, \"123RD\" starts with \"123\" and ends with \"RD\".\n",
    "\n",
    "The \"numbered street\" can be any word in the address. It need not only be the second word."
   ]
  },
  {
   "cell_type": "code",
   "execution_count": 94,
   "metadata": {},
   "outputs": [
    {
     "data": {
      "text/plain": [
       "4        700 7TH STREET NW\n",
       "11     2000 11TH STREET NW\n",
       "12     2000 14TH STREET NW\n",
       "16      125 45TH STREET NE\n",
       "27     3300 14TH STREET NW\n",
       "29       833 7TH STREET NW\n",
       "38      800 17TH STREET NW\n",
       "46     3100 14TH STREET NW\n",
       "49      1348 4TH STREET NE\n",
       "50     3806 12TH STREET NE\n",
       "55     1604 17TH STREET NW\n",
       "66      900 17TH STREET NW\n",
       "67     1020 19TH STREET NW\n",
       "87       901 7TH STREET NW\n",
       "88      605 14TH STREET NW\n",
       "89     1030 15TH STREET NW\n",
       "92      801 17TH STREET NW\n",
       "99      1275 1ST STREET NE\n",
       "100    5228 44TH STREET NW\n",
       "101     600 14TH STREET NW\n",
       "110    1146 19TH STREET NW\n",
       "111    1804 14TH STREET NW\n",
       "113     700 13TH STREET NW\n",
       "114     1901 7TH STREET NW\n",
       "116    3325 14TH STREET NW\n",
       "124     888 17TH STREET NW\n",
       "128    1934 14TH STREET NW\n",
       "140     1200 1ST STREET NE\n",
       "159    4301 49TH STREET NW\n",
       "168     555 12TH STREET NW\n",
       "169      444 8TH STREET NW\n",
       "172    1115 30TH STREET NW\n",
       "175    3101 14TH STREET NW\n",
       "178     601 13TH STREET NW\n",
       "192     925 15TH STREET NW\n",
       "196    1100 17TH STREET NW\n",
       "203     1075 5TH STREET NW\n",
       "211    3241 14TH STREET NW\n",
       "213      750 9TH STREET NW\n",
       "232     1301 9TH STREET NW\n",
       "Name: address, dtype: object"
      ]
     },
     "execution_count": 94,
     "metadata": {},
     "output_type": "execute_result"
    }
   ],
   "source": [
    "#df['address'].str.extract('.*[0-9]+[A-Z][A-Z]\\s')\n",
    "\n",
    "def myfunc(s):\n",
    "    return len(re.findall('.*[0-9]+[A-Z][A-Z]\\s',s))>0\n",
    "\n",
    "mask = df['address'].map(myfunc)\n",
    "df['address'][mask]"
   ]
  },
  {
   "cell_type": "markdown",
   "metadata": {},
   "source": [
    "### Do a scatter plot of all ATM locations using the latitude and longitude columns. Ignore rows where the zipcode is 20520.\n",
    "\n",
    "Color-code the dots in the scatter-plot by the zipcode, i.e., all ATMs in the same zipcode should have the same color. You can use any colormap, such as \"Set1\" or \"tab20\" or \"bwr\"."
   ]
  },
  {
   "cell_type": "code",
   "execution_count": 10,
   "metadata": {},
   "outputs": [
    {
     "data": {
      "text/plain": [
       "<matplotlib.collections.PathCollection at 0x506a320>"
      ]
     },
     "execution_count": 10,
     "metadata": {},
     "output_type": "execute_result"
    },
    {
     "data": {
      "image/png": "[encoded data removed]",
      "text/plain": [
       "<Figure size 432x288 with 1 Axes>"
      ]
     },
     "metadata": {
      "needs_background": "light"
     },
     "output_type": "display_data"
    }
   ],
   "source": [
    "import matplotlib\n",
    "import matplotlib.pyplot as plt\n",
    "rng = np.random.RandomState(0)\n",
    "\n",
    "mask = df['zipcode'] == 20520\n",
    "tmp = df[-mask]\n",
    "\n",
    "colors = cm.rainbow(np.linspace(0, 1, len(tmp['zipcode'].unique())))\n",
    "\n",
    "plt.scatter(tmp['longitude'], tmp['latitude'], c=tmp['zipcode'], cmap=matplotlib.colors.ListedColormap(colors))\n",
    "\n",
    "#plot(tmp['longitude'], tmp['latitude'],marker='o', linestyle='None')"
   ]
  },
  {
   "cell_type": "markdown",
   "metadata": {},
   "source": [
    "### Show two plots. The first plot is the frequency distribution of the top-10 zipcodes. The second is the frequency distribution of zipcodes for banks that appear only once in the dataset."
   ]
  },
  {
   "cell_type": "code",
   "execution_count": 134,
   "metadata": {},
   "outputs": [
    {
     "data": {
      "text/plain": [
       "<matplotlib.axes._subplots.AxesSubplot at 0xed06e48>"
      ]
     },
     "execution_count": 134,
     "metadata": {},
     "output_type": "execute_result"
    },
    {
     "data": {
      "image/png": "[encoded data removed]",
      "text/plain": [
       "<Figure size 432x288 with 2 Axes>"
      ]
     },
     "metadata": {
      "needs_background": "light"
     },
     "output_type": "display_data"
    }
   ],
   "source": [
    "tn = pd.DataFrame(df['zipcode'].value_counts()[:10])\n",
    "tn = tn.reset_index().rename(columns={'zipcode':'count', 'index':'zipcode'})\n",
    "\n",
    "\n",
    "uno = pd.DataFrame(df['name'].value_counts().loc[lambda x : x<2])\n",
    "uno = uno.reset_index().rename(columns={'name':'count', 'index':'name'})\n",
    "\n",
    "\n",
    "uno2 = pd.merge(df,uno, how='inner', on='name')\n",
    "uno3 = pd.DataFrame(uno2['zipcode'].value_counts())\n",
    "uno3 = uno3.reset_index().rename(columns={'zipcode':'count', 'index':'zipcode'})\n",
    "\n",
    "fig, (ax1, ax2) = subplots(nrows=1,\n",
    "                           ncols=2,\n",
    "                           sharey=True,\n",
    "                           figsize=(6, 4))\n",
    "\n",
    "df['zipcode'].value_counts()[:10].plot(kind='bar', ax = ax1)\n",
    "uno2['zipcode'].value_counts().plot(kind='bar', ax = ax2)\n"
   ]
  },
  {
   "cell_type": "markdown",
   "metadata": {},
   "source": [
    "### Bank domination of ward\n",
    "A bank dominates a ward if it has the most branches among all banks in that ward. The degree of domination is the *fraction* of ATMs of this bank in this ward, as compared to the total number of ATMs of all banks in this ward.\n",
    "* For example, if ward 1 has 50 \"Bank of America\", 20 \"Congressional Bank\", and 30 \"Eagle Bank\" ATMs, then ward 1 is dominated by \"Bank of America\", and the degree of domination is 50 / (50 + 20 + 30) = 0.5\n",
    "\n",
    "For each ward, print out the degree to which it is dominated by any one bank."
   ]
  },
  {
   "cell_type": "code",
   "execution_count": 156,
   "metadata": {},
   "outputs": [
    {
     "data": {
      "text/html": [
       "<div>\n",
       "<style scoped>\n",
       "    .dataframe tbody tr th:only-of-type {\n",
       "        vertical-align: middle;\n",
       "    }\n",
       "\n",
       "    .dataframe tbody tr th {\n",
       "        vertical-align: top;\n",
       "    }\n",
       "\n",
       "    .dataframe thead th {\n",
       "        text-align: right;\n",
       "    }\n",
       "</style>\n",
       "<table border=\"1\" class=\"dataframe\">\n",
       "  <thead>\n",
       "    <tr style=\"text-align: right;\">\n",
       "      <th></th>\n",
       "      <th>ward</th>\n",
       "      <th>Dommination</th>\n",
       "    </tr>\n",
       "  </thead>\n",
       "  <tbody>\n",
       "    <tr>\n",
       "      <th>39</th>\n",
       "      <td>Ward 2</td>\n",
       "      <td>0.120301</td>\n",
       "    </tr>\n",
       "    <tr>\n",
       "      <th>76</th>\n",
       "      <td>Ward 7</td>\n",
       "      <td>0.142857</td>\n",
       "    </tr>\n",
       "    <tr>\n",
       "      <th>52</th>\n",
       "      <td>Ward 3</td>\n",
       "      <td>0.193548</td>\n",
       "    </tr>\n",
       "    <tr>\n",
       "      <th>53</th>\n",
       "      <td>Ward 4</td>\n",
       "      <td>0.200000</td>\n",
       "    </tr>\n",
       "    <tr>\n",
       "      <th>61</th>\n",
       "      <td>Ward 5</td>\n",
       "      <td>0.222222</td>\n",
       "    </tr>\n",
       "    <tr>\n",
       "      <th>0</th>\n",
       "      <td>Ward 1</td>\n",
       "      <td>0.235294</td>\n",
       "    </tr>\n",
       "    <tr>\n",
       "      <th>73</th>\n",
       "      <td>Ward 6</td>\n",
       "      <td>0.240000</td>\n",
       "    </tr>\n",
       "    <tr>\n",
       "      <th>83</th>\n",
       "      <td>Ward 8</td>\n",
       "      <td>0.285714</td>\n",
       "    </tr>\n",
       "  </tbody>\n",
       "</table>\n",
       "</div>"
      ],
      "text/plain": [
       "      ward  Dommination\n",
       "39  Ward 2     0.120301\n",
       "76  Ward 7     0.142857\n",
       "52  Ward 3     0.193548\n",
       "53  Ward 4     0.200000\n",
       "61  Ward 5     0.222222\n",
       "0   Ward 1     0.235294\n",
       "73  Ward 6     0.240000\n",
       "83  Ward 8     0.285714"
      ]
     },
     "execution_count": 156,
     "metadata": {},
     "output_type": "execute_result"
    }
   ],
   "source": [
    "df['Dummy'] = 1\n",
    "temp = pd.DataFrame(df.groupby(['ward', 'name'])['Dummy'].agg('count'))\n",
    "\n",
    "\n",
    "wtot = pd.DataFrame(temp.unstack().sum(axis=1))\n",
    "wtot = wtot.reset_index().rename(columns={0:'count'})\n",
    "wtot\n",
    "temp = temp.reset_index()\n",
    "dom = pd.merge(temp, wtot, on='ward')\n",
    "dom['Dommination'] = dom['Dummy']/dom['count']\n",
    "\n",
    "dom = dom.sort_values('Dommination', ascending=True).drop_duplicates('ward',keep='last')\n",
    "dom[['ward','Dommination']]\n"
   ]
  },
  {
   "cell_type": "markdown",
   "metadata": {},
   "source": [
    "### Explore the relationship between (x, y) and (latitude, longitude).\n",
    "\n",
    "* Create a column called \"x_normalized\", whose values are the \"normalized\" values of the column \"x\"\n",
    "    * That is, if column x has mean 10000 and standard deviation 50, then the values of x_normalized are (x-10000) / 50\n",
    "* Repeat this to create y_normalized, latitude_normalized, and longitude_normalized.\n",
    "* Now run a linear regression to predict y_normalized using all the other normalized columns.\n"
   ]
  },
  {
   "cell_type": "code",
   "execution_count": 164,
   "metadata": {},
   "outputs": [
    {
     "data": {
      "text/html": [
       "<table class=\"simpletable\">\n",
       "<caption>OLS Regression Results</caption>\n",
       "<tr>\n",
       "  <th>Dep. Variable:</th>      <td>y_normalized</td>   <th>  R-squared:         </th> <td>   1.000</td> \n",
       "</tr>\n",
       "<tr>\n",
       "  <th>Model:</th>                   <td>OLS</td>       <th>  Adj. R-squared:    </th> <td>   1.000</td> \n",
       "</tr>\n",
       "<tr>\n",
       "  <th>Method:</th>             <td>Least Squares</td>  <th>  F-statistic:       </th> <td>2.834e+09</td>\n",
       "</tr>\n",
       "<tr>\n",
       "  <th>Date:</th>             <td>Fri, 16 Aug 2019</td> <th>  Prob (F-statistic):</th>  <td>  0.00</td>  \n",
       "</tr>\n",
       "<tr>\n",
       "  <th>Time:</th>                 <td>11:35:32</td>     <th>  Log-Likelihood:    </th> <td>  1707.2</td> \n",
       "</tr>\n",
       "<tr>\n",
       "  <th>No. Observations:</th>      <td>   234</td>      <th>  AIC:               </th> <td>  -3406.</td> \n",
       "</tr>\n",
       "<tr>\n",
       "  <th>Df Residuals:</th>          <td>   230</td>      <th>  BIC:               </th> <td>  -3393.</td> \n",
       "</tr>\n",
       "<tr>\n",
       "  <th>Df Model:</th>              <td>     3</td>      <th>                     </th>     <td> </td>    \n",
       "</tr>\n",
       "<tr>\n",
       "  <th>Covariance Type:</th>      <td>nonrobust</td>    <th>                     </th>     <td> </td>    \n",
       "</tr>\n",
       "</table>\n",
       "<table class=\"simpletable\">\n",
       "<tr>\n",
       "            <td></td>              <th>coef</th>     <th>std err</th>      <th>t</th>      <th>P>|t|</th>  <th>[0.025</th>    <th>0.975]</th>  \n",
       "</tr>\n",
       "<tr>\n",
       "  <th>Intercept</th>            <td> 6.359e-14</td> <td> 1.08e-05</td> <td> 5.88e-09</td> <td> 1.000</td> <td>-2.13e-05</td> <td> 2.13e-05</td>\n",
       "</tr>\n",
       "<tr>\n",
       "  <th>longitude_normalized</th> <td>   -0.4181</td> <td>    0.025</td> <td>  -16.568</td> <td> 0.000</td> <td>   -0.468</td> <td>   -0.368</td>\n",
       "</tr>\n",
       "<tr>\n",
       "  <th>latitude_normalized</th>  <td>    0.9997</td> <td> 1.75e-05</td> <td> 5.72e+04</td> <td> 0.000</td> <td>    1.000</td> <td>    1.000</td>\n",
       "</tr>\n",
       "<tr>\n",
       "  <th>x_normalized</th>         <td>    0.4177</td> <td>    0.025</td> <td>   16.557</td> <td> 0.000</td> <td>    0.368</td> <td>    0.467</td>\n",
       "</tr>\n",
       "</table>\n",
       "<table class=\"simpletable\">\n",
       "<tr>\n",
       "  <th>Omnibus:</th>       <td>166.124</td> <th>  Durbin-Watson:     </th> <td>   2.158</td>\n",
       "</tr>\n",
       "<tr>\n",
       "  <th>Prob(Omnibus):</th> <td> 0.000</td>  <th>  Jarque-Bera (JB):  </th> <td>1545.478</td>\n",
       "</tr>\n",
       "<tr>\n",
       "  <th>Skew:</th>          <td> 2.791</td>  <th>  Prob(JB):          </th> <td>    0.00</td>\n",
       "</tr>\n",
       "<tr>\n",
       "  <th>Kurtosis:</th>      <td>14.285</td>  <th>  Cond. No.          </th> <td>5.23e+03</td>\n",
       "</tr>\n",
       "</table><br/><br/>Warnings:<br/>[1] Standard Errors assume that the covariance matrix of the errors is correctly specified.<br/>[2] The condition number is large, 5.23e+03. This might indicate that there are<br/>strong multicollinearity or other numerical problems."
      ],
      "text/plain": [
       "<class 'statsmodels.iolib.summary.Summary'>\n",
       "\"\"\"\n",
       "                            OLS Regression Results                            \n",
       "==============================================================================\n",
       "Dep. Variable:           y_normalized   R-squared:                       1.000\n",
       "Model:                            OLS   Adj. R-squared:                  1.000\n",
       "Method:                 Least Squares   F-statistic:                 2.834e+09\n",
       "Date:                Fri, 16 Aug 2019   Prob (F-statistic):               0.00\n",
       "Time:                        11:35:32   Log-Likelihood:                 1707.2\n",
       "No. Observations:                 234   AIC:                            -3406.\n",
       "Df Residuals:                     230   BIC:                            -3393.\n",
       "Df Model:                           3                                         \n",
       "Covariance Type:            nonrobust                                         \n",
       "========================================================================================\n",
       "                           coef    std err          t      P>|t|      [0.025      0.975]\n",
       "----------------------------------------------------------------------------------------\n",
       "Intercept             6.359e-14   1.08e-05   5.88e-09      1.000   -2.13e-05    2.13e-05\n",
       "longitude_normalized    -0.4181      0.025    -16.568      0.000      -0.468      -0.368\n",
       "latitude_normalized      0.9997   1.75e-05   5.72e+04      0.000       1.000       1.000\n",
       "x_normalized             0.4177      0.025     16.557      0.000       0.368       0.467\n",
       "==============================================================================\n",
       "Omnibus:                      166.124   Durbin-Watson:                   2.158\n",
       "Prob(Omnibus):                  0.000   Jarque-Bera (JB):             1545.478\n",
       "Skew:                           2.791   Prob(JB):                         0.00\n",
       "Kurtosis:                      14.285   Cond. No.                     5.23e+03\n",
       "==============================================================================\n",
       "\n",
       "Warnings:\n",
       "[1] Standard Errors assume that the covariance matrix of the errors is correctly specified.\n",
       "[2] The condition number is large, 5.23e+03. This might indicate that there are\n",
       "strong multicollinearity or other numerical problems.\n",
       "\"\"\""
      ]
     },
     "execution_count": 164,
     "metadata": {},
     "output_type": "execute_result"
    }
   ],
   "source": [
    "df['x_normalized'] = 1.0*(df['x']-df['x'].mean())/df['x'].std()\n",
    "df['y_normalized'] = 1.0*(df['y']-df['y'].mean())/df['y'].std()\n",
    "df['latitude_normalized'] = 1.0*(df['latitude']-df['latitude'].mean())/df['latitude'].std()\n",
    "df['longitude_normalized'] = 1.0*(df['longitude']-df['longitude'].mean())/df['longitude'].std()\n",
    "\n",
    "import statsmodels.api as sm\n",
    "from patsy import dmatrices\n",
    "y, X = dmatrices('y_normalized ~ longitude_normalized + latitude_normalized + x_normalized', df, return_type='dataframe')\n",
    "result = sm.OLS(y, X).fit()\n",
    "\n",
    "result.summary()\n"
   ]
  }
 ],
 "metadata": {
  "kernelspec": {
   "display_name": "Python 2",
   "language": "python",
   "name": "python2"
  },
  "language_info": {
   "codemirror_mode": {
    "name": "ipython",
    "version": 2
   },
   "file_extension": ".py",
   "mimetype": "text/x-python",
   "name": "python",
   "nbconvert_exporter": "python",
   "pygments_lexer": "ipython2",
   "version": "2.7.16"
  }
 },
 "nbformat": 4,
 "nbformat_minor": 2
}
